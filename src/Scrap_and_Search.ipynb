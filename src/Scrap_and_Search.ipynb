{
 "cells": [
  {
   "cell_type": "markdown",
   "metadata": {},
   "source": [
    "# Scrap and Search LLM Project - Modular Flow"
   ]
  },
  {
   "cell_type": "code",
   "execution_count": null,
   "id": "e4874380",
   "metadata": {},
   "outputs": [],
   "source": [
    "import subprocess\n",
    "subprocess.run(['pip', 'install', '-r', 'python/requirements.txt', '-q'])\n",
    "\n",
    "# Define input URLs for different sites\n",
    "urls_to_scrape = [\n",
    "    {'site': 'kabum', 'start_url': 'https://www.kabum.com.br/computadores/notebooks?page_number=1&page_size=20&facet_filters=eyJNZW3Ds3JpYSBSQU0iOlsiMzIgR0IiLCIxNiBHQiJdLCJUYW1hbmhvIGRhIFRlbGEiOlsiMTRcIiJdfQ==&sort=price'}    \n",
    "]\n",
    "# [\n",
    "#     {'site': 'kabum', 'start_url': 'https://www.kabum.com.br/computadores/notebooks/ultrabook?page_number=1&page_size=20&facet_filters=&sort=price'}\n",
    "#     {'site': 'mercado_livre', 'start_url': 'https://lista.mercadolivre.com.br/notebook?sb=all_mercadolibre#D%5BA:notebook%5D'},\n",
    "#     {'site': 'kabum', 'start_url': 'https://www.kabum.com.br/computadores/notebooks?page_number=1&page_size=100&facet_filters=&sort=most_searched'},\n",
    "#     {'site': 'mercado_livre', 'start_url': 'https://lista.mercadolivre.com.br/informatica/portateis-acessorios/notebooks/notebook_NoIndex_True_RAM*MEMORY*MODULE*TOTAL*CAPACITY_20GB-*?sb=all_mercadolibre#applied_filter_id%3DRAM_MEMORY_MODULE_TOTAL_CAPACITY%26applied_filter_name%3DCapacidade+total+do+m%C3%B3dulo+de+mem%C3%B3ria+RAM%26applied_filter_order%3D27%26applied_value_id%3D%5B20GB-*%29%26applied_value_name%3D20+GB+ou+mais%26applied_value_order%3D2%26applied_value_results%3D2053%26is_custom%3Dfalse'},\n",
    "#     {'site': 'kabum', 'start_url': 'https://www.kabum.com.br/computadores/notebooks?page_number=1&page_size=20&facet_filters=eyJNZW3Ds3JpYSBSQU0iOlsiMzIgR0IiXX0=&sort=most_searched'}    \n",
    "# ] "
   ]
  },
  {
   "cell_type": "code",
   "execution_count": null,
   "id": "3b4f47ef",
   "metadata": {},
   "outputs": [],
   "source": [
    "import subprocess\n",
    "import json\n",
    "import os\n",
    "\n",
    "# Defina um limite para o número de produtos ou use 0 para buscar todos na primeira página.\n",
    "limit_per_site = 0\n",
    "\n",
    "# Limpa o arquivo de links de produtos antes de começar\n",
    "links_output_file = '../data/product_links.json'\n",
    "if os.path.exists(links_output_file):\n",
    "    os.remove(links_output_file)\n",
    "\n",
    "for site_info in urls_to_scrape:\n",
    "    site = site_info['site']\n",
    "    start_url = site_info['start_url']\n",
    "    print(f\"Executando spider para obter links de produtos para {site} de {start_url}...\")\n",
    "    subprocess.run(['python', 'python/step_2_links_spider.py', '--site', site, '--url', start_url, '--limit', str(limit_per_site)])\n",
    "\n",
    "print(\"Coleta de links finalizada.\")"
   ]
  },
  {
   "cell_type": "code",
   "execution_count": null,
   "id": "664f2304",
   "metadata": {},
   "outputs": [],
   "source": [
    "import subprocess\n",
    "subprocess.run(['python', 'python/step_2_1_convert_links_json.py'])"
   ]
  },
  {
   "cell_type": "code",
   "execution_count": null,
   "id": "9ddabbcc",
   "metadata": {},
   "outputs": [],
   "source": [
    "import subprocess\n",
    "import os\n",
    "import json\n",
    "\n",
    "# First, ensure the output file from the previous step exists and is not empty.\n",
    "links_file = '../data/product_links.json'\n",
    "if not os.path.exists(links_file) or os.path.getsize(links_file) == 0:\n",
    "    print('Skipping detail scraping because no links were found in product_links.json.')\n",
    "else:\n",
    "    # Clean up previous details file\n",
    "    details_output_file = '../data/products_details.json'\n",
    "    if os.path.exists(details_output_file):\n",
    "        os.remove(details_output_file)\n",
    "    \n",
    "    # Run the details spider\n",
    "    subprocess.run(['python', 'python/step_3_details_spider.py'])"
   ]
  },
  {
   "cell_type": "code",
   "execution_count": null,
   "id": "new_step_3_1_code",
   "metadata": {},
   "outputs": [],
   "source": [
    "import subprocess\n",
    "subprocess.run(['python', 'python/step_3_1_convert_details_json.py'])"
   ]
  },
  {
   "cell_type": "code",
   "execution_count": null,
   "id": "1cb20c6f",
   "metadata": {},
   "outputs": [],
   "source": [
    "import subprocess\n",
    "subprocess.run(['python', 'python/step_4_data_processing.py'])"
   ]
  },
  {
   "cell_type": "code",
   "execution_count": null,
   "id": "921c5db5",
   "metadata": {},
   "outputs": [],
   "source": [
    "import subprocess\n",
    "subprocess.run(['python', 'python/step_5_export_data.py'])"
   ]
  },
  {
   "cell_type": "code",
   "execution_count": null,
   "id": "step_8_code",
   "metadata": {},
   "outputs": [],
   "source": [
    "import subprocess\n",
    "\n",
    "# Define your minimum requirements here\n",
    "requirements = {\n",
    "    'ram': 32,  # Minimum RAM in GB\n",
    "    'storage-type': 'SSD',  # 'SSD' or 'HDD'\n",
    "    'processor-keywords': ['i7', 'i9', 'ryzen 7', 'ryzen 9', 'ultra', '13th gen', '14th gen', '7000 series', '8000 series']  # Keywords to find in the processor description, including newer generations\n",
    "}\n",
    "\n",
    "# Build the command-line arguments\n",
    "cmd = ['python', 'python/step_6_filter_products.py']\n",
    "if requirements['ram'] is not None:\n",
    "    cmd.extend(['--ram', str(requirements['ram'])])\n",
    "if requirements['storage-type'] is not None:\n",
    "    cmd.extend(['--storage-type', requirements['storage-type']])\n",
    "if requirements['processor-keywords'] is not None:\n",
    "    cmd.extend(['--processor-keywords'])\n",
    "    cmd.extend(requirements['processor-keywords'])\n",
    "\n",
    "# Run the script\n",
    "subprocess.run(cmd)\n",
    "\n",
    "# Display the finalists from the generated file\n",
    "import pandas as pd\n",
    "import os\n",
    "finalists_file = '../data/finalists_products.csv'\n",
    "if os.path.exists(finalists_file):\n",
    "    finalists_df = pd.read_csv(finalists_file)\n",
    "    print('\\n--- Finalist Products ---')\n",
    "    display(finalists_df[['titulo_produto', 'preco', 'processador', 'ram_quantidade', 'armazenamento_quantidade', 'armazenamento_tipo']])\n",
    "else:\n",
    "    print(\"No finalists file generated. Check Step 8 script for errors.\")"
   ]
  },
  {
   "cell_type": "code",
   "execution_count": null,
   "id": "step_9_code",
   "metadata": {},
   "outputs": [],
   "source": [
    "import subprocess\n",
    "\n",
    "# The requirements are inherited from the previous cell\n",
    "# Build the command-line arguments\n",
    "cmd = ['python', 'python/step_7_get_ai_recommendation.py']\n",
    "if requirements['ram'] is not None:\n",
    "    cmd.extend(['--ram', str(requirements['ram'])])\n",
    "if requirements['storage-type'] is not None:\n",
    "    cmd.extend(['--storage-type', requirements['storage-type']])\n",
    "if requirements['processor-keywords'] is not None:\n",
    "    cmd.extend(['--processor-keywords'])\n",
    "    cmd.extend(requirements['processor-keywords'])\n",
    "\n",
    "# Run the script\n",
    "subprocess.run(cmd)"
   ]
  },
  {
   "cell_type": "code",
   "execution_count": null,
   "id": "e77459d6",
   "metadata": {},
   "outputs": [],
   "source": [
    "import subprocess\n",
    "subprocess.run(['python', 'python/step_10_convert_to_excel.py'])"
   ]
  },
  {
   "cell_type": "code",
   "execution_count": null,
   "id": "75bf813a",
   "metadata": {},
   "outputs": [],
   "source": [
    "import subprocess\n",
    "subprocess.run(['python', 'python/step_10_extras.py'])"
   ]
  }
 ],
 "metadata": {
  "kernelspec": {
   "display_name": "Python 3",
   "language": "python",
   "name": "python3"
  },
  "language_info": {
   "codemirror_mode": {
    "name": "ipython",
    "version": 3
   },
   "file_extension": ".py",
   "mimetype": "text/x-python",
   "name": "python",
   "nbconvert_exporter": "python",
   "pygments_lexer": "ipython3",
   "version": "3.13.7"
  }
 },
 "nbformat": 4,
 "nbformat_minor": 5
}
